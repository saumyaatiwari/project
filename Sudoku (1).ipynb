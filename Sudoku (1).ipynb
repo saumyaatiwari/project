{
 "cells": [
  {
   "cell_type": "code",
   "execution_count": 28,
   "id": "cf406695",
   "metadata": {},
   "outputs": [],
   "source": [
    "board = [\n",
    "    [7,0,0,4,0,0,1,0,0],\n",
    "    [0,0,0,0,0,0,0,0,9],\n",
    "    [0,0,0,0,0,1,0,0,0],\n",
    "    [0,0,7,0,0,0,0,6,0],\n",
    "    [0,0,1,0,5,0,9,3,0],\n",
    "    [9,0,0,0,0,0,0,0,5],\n",
    "    [0,7,0,0,0,0,0,1,2],\n",
    "    [1,2,0,0,0,0,0,0,0],\n",
    "    [0,4,0,2,0,6,0,0,0]\n",
    "]"
   ]
  },
  {
   "cell_type": "code",
   "execution_count": 29,
   "id": "f53731b4",
   "metadata": {},
   "outputs": [
    {
     "name": "stdout",
     "output_type": "stream",
     "text": [
      "7 0 0 | 4 0 0 | 1 0 0 \n",
      "0 0 0 | 0 0 0 | 0 0 9 \n",
      "0 0 0 | 0 0 1 | 0 0 0 \n",
      "---------------------\n",
      "0 0 7 | 0 0 0 | 0 6 0 \n",
      "0 0 1 | 0 5 0 | 9 3 0 \n",
      "9 0 0 | 0 0 0 | 0 0 5 \n",
      "---------------------\n",
      "0 7 0 | 0 0 0 | 0 1 2 \n",
      "1 2 0 | 0 0 0 | 0 0 0 \n",
      "0 4 0 | 2 0 6 | 0 0 0 \n"
     ]
    }
   ],
   "source": [
    "def print_sudoku(board):\n",
    "    for i in range(9):\n",
    "        if i % 3 == 0 and i != 0:\n",
    "            print(\"-\" * 21) \n",
    "        for j in range(9):\n",
    "            if j % 3 == 0 and j != 0:\n",
    "                print(\"|\", end=\" \")  \n",
    "            print(board[i][j], end=\" \")\n",
    "        print()\n",
    "print_sudoku(board)"
   ]
  },
  {
   "cell_type": "code",
   "execution_count": 30,
   "id": "1ab463a4",
   "metadata": {},
   "outputs": [],
   "source": [
    "def is_valid_move(board,row,col,number):\n",
    "    for x in range(9):\n",
    "        if board[row][x] ==  number:\n",
    "            return False\n",
    "        \n",
    "    for x in range(9):\n",
    "        if board[x][col] == number:\n",
    "            return False\n",
    "     \n",
    "    corner_row= row - row %3\n",
    "    corner_col= col - col %3\n",
    "    \n",
    "    for x in range(3):\n",
    "        for y in range(3):\n",
    "            if board[corner_row+x][corner_col+y] == number:\n",
    "                return False\n",
    "    return True\n",
    "\n",
    "def solve(board,row,col):\n",
    "    if col == 9:\n",
    "        if row == 8:\n",
    "            return True\n",
    "        row += 1\n",
    "        col = 0\n",
    "        \n",
    "    if board[row][col]>0:\n",
    "        return solve(board,row,col + 1)\n",
    "        \n",
    "    for num in range(1,10):\n",
    "        if is_valid_move(board,row,col,num):\n",
    "            board[row][col] = num\n",
    "            \n",
    "            if solve(board,row,col+1):\n",
    "                return True\n",
    "            board[row][col] = 0\n",
    "    return False"
   ]
  },
  {
   "cell_type": "code",
   "execution_count": 31,
   "id": "73229180",
   "metadata": {},
   "outputs": [
    {
     "name": "stdout",
     "output_type": "stream",
     "text": [
      "7 3 2 4 6 9 1 5 8 \n",
      "4 1 5 3 2 8 6 7 9 \n",
      "6 9 8 5 7 1 2 4 3 \n",
      "3 5 7 9 4 2 8 6 1 \n",
      "2 8 1 6 5 7 9 3 4 \n",
      "9 6 4 1 8 3 7 2 5 \n",
      "5 7 6 8 9 4 3 1 2 \n",
      "1 2 9 7 3 5 4 8 6 \n",
      "8 4 3 2 1 6 5 9 7 \n"
     ]
    }
   ],
   "source": [
    "if solve(board,0,0):\n",
    "    for i in range(9):\n",
    "        for j in range(9):\n",
    "            print(board[i][j], end=\" \")\n",
    "        print()\n",
    "else:\n",
    "    print(\"No solution for this soduku!\")"
   ]
  },
  {
   "cell_type": "code",
   "execution_count": 32,
   "id": "cb7d32a0",
   "metadata": {},
   "outputs": [
    {
     "name": "stdout",
     "output_type": "stream",
     "text": [
      "7 3 2 | 4 6 9 | 1 5 8 \n",
      "4 1 5 | 3 2 8 | 6 7 9 \n",
      "6 9 8 | 5 7 1 | 2 4 3 \n",
      "---------------------\n",
      "3 5 7 | 9 4 2 | 8 6 1 \n",
      "2 8 1 | 6 5 7 | 9 3 4 \n",
      "9 6 4 | 1 8 3 | 7 2 5 \n",
      "---------------------\n",
      "5 7 6 | 8 9 4 | 3 1 2 \n",
      "1 2 9 | 7 3 5 | 4 8 6 \n",
      "8 4 3 | 2 1 6 | 5 9 7 \n"
     ]
    }
   ],
   "source": [
    "def print_sudoku(board):\n",
    "    for i in range(9):\n",
    "        if i % 3 == 0 and i != 0:\n",
    "            print(\"-\" * 21) \n",
    "        for j in range(9):\n",
    "            if j % 3 == 0 and j != 0:\n",
    "                print(\"|\", end=\" \")  \n",
    "            print(board[i][j], end=\" \")\n",
    "        print()\n",
    "\n",
    "if solve(board, 0, 0):\n",
    "    print_sudoku(board)\n",
    "else:\n",
    "    print(\"No solution for this Sudoku!\")"
   ]
  },
  {
   "cell_type": "code",
   "execution_count": null,
   "id": "2d97e655",
   "metadata": {},
   "outputs": [],
   "source": []
  }
 ],
 "metadata": {
  "kernelspec": {
   "display_name": "Python 3 (ipykernel)",
   "language": "python",
   "name": "python3"
  },
  "language_info": {
   "codemirror_mode": {
    "name": "ipython",
    "version": 3
   },
   "file_extension": ".py",
   "mimetype": "text/x-python",
   "name": "python",
   "nbconvert_exporter": "python",
   "pygments_lexer": "ipython3",
   "version": "3.11.3"
  }
 },
 "nbformat": 4,
 "nbformat_minor": 5
}
